{
 "cells": [
  {
   "cell_type": "markdown",
   "metadata": {},
   "source": [
    "Name: Achi Fidelia Oreoluwa\n",
    "\n",
    "SOLUTION TO ASSIGNMENT"
   ]
  },
  {
   "cell_type": "markdown",
   "metadata": {},
   "source": [
    "Q.1) Here are five commonly used data types in python along with their respective purposes:\n",
    "\n",
    "1. Integer: This data type is employed for representing whole numbers. It is suitable for storing values like age, quantity of items, and more. Integers can be positive, negative, or zero.\n",
    "\n",
    "2. Character: This data type is utilized for representing a single character, such as a letter, digit, or symbol. It is commonly used for storing values like a person's initials, a single digit, or a punctuation mark.\n",
    "\n",
    "3. Float: This data type is employed to represent decimal numbers. It is ideal for storing values like height, weight, or temperature.\n",
    "\n",
    "4. Boolean: This data type is used for representing logical values and can only take on two values: `true` or `false`. It is frequently used in conditional statements to assess whether a specific condition holds true or false.\n",
    "\n",
    "5. String: This data type is used to represent a sequence of characters. It is suitable for storing values such as a person's name, address, or a complete sentence.\n"
   ]
  },
  {
   "cell_type": "markdown",
   "metadata": {},
   "source": [
    "Q.2) Python has several built-in data structures that are used to store and manipulate data. Here are four of them:\n",
    "\n",
    "1. Lists: Lists are ordered collections of items that can be of different types. They are mutable, which means that their contents can be changed after they are created. Lists are used to store and manipulate data that needs to be ordered, such as a list of names or a list of numbers. They are also used to implement stacks and queues.\n",
    "\n",
    "2. Tuples: Tuples are similar to lists, but they are immutable, which means that their contents cannot be changed after they are created. Tuples are used to store and manipulate data that does not need to be changed, such as a list of constants or a list of coordinates.\n",
    "\n",
    "3. Dictionaries: Dictionaries are unordered collections of key-value pairs. They are used to store and manipulate data that needs to be accessed quickly by a key, such as a phone book or a dictionary of words and their meanings.\n",
    "\n",
    "4. Sets: Sets are unordered collections of unique items. They are used to store and manipulate data that needs to be unique, such as a set of user IDs or a set of email addresses. They are also used to implement mathematical operations such as union, intersection, and difference.\n"
   ]
  }
 ],
 "metadata": {
  "language_info": {
   "name": "python"
  },
  "orig_nbformat": 4
 },
 "nbformat": 4,
 "nbformat_minor": 2
}
