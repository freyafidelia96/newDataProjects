{
 "cells": [
  {
   "cell_type": "markdown",
   "id": "bdc39fb2",
   "metadata": {},
   "source": [
    "### Learning Objectives\n",
    "\n",
    "By the end of this class, you should be able to:\n",
    "\n",
    "1. Understand common Python data structures.\n",
    "2. Apply CRUD operations to data structures.\n",
    "3. Recognize use cases for data structures in data science."
   ]
  },
  {
   "cell_type": "markdown",
   "id": "d23f580c",
   "metadata": {},
   "source": [
    "CRUD\n",
    "\n",
    "Create\n",
    "Read\n",
    "Update\n",
    "Delete"
   ]
  },
  {
   "cell_type": "markdown",
   "id": "b4037726",
   "metadata": {},
   "source": [
    "## 1. Lists <a id=\"lists\"></a>"
   ]
  },
  {
   "cell_type": "markdown",
   "id": "abb31eb5",
   "metadata": {},
   "source": [
    "In Python, lists are versatile and commonly used to store collections of items. You can create lists using square brackets `[]`. you can also use the list function: list()\n",
    "\n",
    "lists are mutable, ordered, typically homogenous."
   ]
  },
  {
   "cell_type": "markdown",
   "id": "7a1b3ec6",
   "metadata": {},
   "source": [
    "### Creating a Python List <a id=\"lists-create\"></a>"
   ]
  },
  {
   "cell_type": "code",
   "execution_count": 5,
   "id": "ff4d7271",
   "metadata": {},
   "outputs": [],
   "source": [
    "# creating a list using square brackets\n",
    "shopping_list = ['Groceries', 'Cocacola', 'Milo', 'Bama', 'Floating Berries']"
   ]
  },
  {
   "cell_type": "code",
   "execution_count": 6,
   "id": "eaa11cea",
   "metadata": {},
   "outputs": [
    {
     "data": {
      "text/plain": [
       "['Groceries', 'Cocacola', 'Milo', 'Bama', 'Floating Berries']"
      ]
     },
     "execution_count": 6,
     "metadata": {},
     "output_type": "execute_result"
    }
   ],
   "source": [
    "shopping_list"
   ]
  },
  {
   "cell_type": "code",
   "execution_count": 7,
   "id": "3d7aa758",
   "metadata": {},
   "outputs": [],
   "source": [
    "# create a list using the list function\n",
    "shopping_list2 = list(('Perfume', 'Soap', 'Tissue paper', 'Body cream'))"
   ]
  },
  {
   "cell_type": "code",
   "execution_count": 8,
   "id": "a1ffbf00",
   "metadata": {},
   "outputs": [
    {
     "data": {
      "text/plain": [
       "['Perfume', 'Soap', 'Tissue paper', 'Body cream']"
      ]
     },
     "execution_count": 8,
     "metadata": {},
     "output_type": "execute_result"
    }
   ],
   "source": [
    "shopping_list2"
   ]
  },
  {
   "cell_type": "code",
   "execution_count": 9,
   "id": "4d9c2f5a",
   "metadata": {},
   "outputs": [
    {
     "data": {
      "text/plain": [
       "list"
      ]
     },
     "execution_count": 9,
     "metadata": {},
     "output_type": "execute_result"
    }
   ],
   "source": [
    "type(shopping_list2)"
   ]
  },
  {
   "cell_type": "code",
   "execution_count": 10,
   "id": "5ea31ad8",
   "metadata": {},
   "outputs": [],
   "source": [
    "# create a list using the list function\n",
    "shopping_list3 = list(['Perfume', 'Soap', 'Tissue paper', 'Body cream'])"
   ]
  },
  {
   "cell_type": "code",
   "execution_count": 11,
   "id": "3a88f5d2",
   "metadata": {},
   "outputs": [
    {
     "data": {
      "text/plain": [
       "['Perfume', 'Soap', 'Tissue paper', 'Body cream']"
      ]
     },
     "execution_count": 11,
     "metadata": {},
     "output_type": "execute_result"
    }
   ],
   "source": [
    "shopping_list3"
   ]
  },
  {
   "cell_type": "code",
   "execution_count": 12,
   "id": "6d359cfc",
   "metadata": {},
   "outputs": [],
   "source": [
    "shopping_list4 = []"
   ]
  },
  {
   "cell_type": "markdown",
   "id": "d7f60d72",
   "metadata": {},
   "source": [
    "### Reading a List <a id=\"lists-read\"></a>"
   ]
  },
  {
   "cell_type": "code",
   "execution_count": 14,
   "id": "2c5bf349",
   "metadata": {
    "scrolled": true
   },
   "outputs": [
    {
     "name": "stdout",
     "output_type": "stream",
     "text": [
      "Perfume\n"
     ]
    }
   ],
   "source": [
    "print(shopping_list3[0])"
   ]
  },
  {
   "cell_type": "code",
   "execution_count": 18,
   "id": "bfba76b0",
   "metadata": {},
   "outputs": [
    {
     "name": "stdout",
     "output_type": "stream",
     "text": [
      "['Perfume', 'Soap']\n"
     ]
    }
   ],
   "source": [
    "# slicing a list: first two items\n",
    "\n",
    "print(shopping_list3[0:2])"
   ]
  },
  {
   "cell_type": "code",
   "execution_count": 19,
   "id": "59d78d59",
   "metadata": {},
   "outputs": [],
   "source": [
    "numbers = [0, 1, 2, 3, 4, 5, 6, 7, 8, 9]"
   ]
  },
  {
   "cell_type": "code",
   "execution_count": 51,
   "id": "985e266e",
   "metadata": {},
   "outputs": [
    {
     "data": {
      "text/plain": [
       "[0, 2, 4, 6, 8]"
      ]
     },
     "execution_count": 51,
     "metadata": {},
     "output_type": "execute_result"
    }
   ],
   "source": [
    "numbers[::2]"
   ]
  },
  {
   "cell_type": "code",
   "execution_count": 21,
   "id": "be70e80c",
   "metadata": {},
   "outputs": [
    {
     "data": {
      "text/plain": [
       "9"
      ]
     },
     "execution_count": 21,
     "metadata": {},
     "output_type": "execute_result"
    }
   ],
   "source": [
    "numbers[-1]"
   ]
  },
  {
   "cell_type": "markdown",
   "id": "5287005c",
   "metadata": {},
   "source": [
    "### Updating a List <a id=\"lists-update\"></a>"
   ]
  },
  {
   "cell_type": "code",
   "execution_count": 22,
   "id": "2fe412e8",
   "metadata": {
    "collapsed": true
   },
   "outputs": [
    {
     "data": {
      "text/plain": [
       "['__add__',\n",
       " '__class__',\n",
       " '__class_getitem__',\n",
       " '__contains__',\n",
       " '__delattr__',\n",
       " '__delitem__',\n",
       " '__dir__',\n",
       " '__doc__',\n",
       " '__eq__',\n",
       " '__format__',\n",
       " '__ge__',\n",
       " '__getattribute__',\n",
       " '__getitem__',\n",
       " '__getstate__',\n",
       " '__gt__',\n",
       " '__hash__',\n",
       " '__iadd__',\n",
       " '__imul__',\n",
       " '__init__',\n",
       " '__init_subclass__',\n",
       " '__iter__',\n",
       " '__le__',\n",
       " '__len__',\n",
       " '__lt__',\n",
       " '__mul__',\n",
       " '__ne__',\n",
       " '__new__',\n",
       " '__reduce__',\n",
       " '__reduce_ex__',\n",
       " '__repr__',\n",
       " '__reversed__',\n",
       " '__rmul__',\n",
       " '__setattr__',\n",
       " '__setitem__',\n",
       " '__sizeof__',\n",
       " '__str__',\n",
       " '__subclasshook__',\n",
       " 'append',\n",
       " 'clear',\n",
       " 'copy',\n",
       " 'count',\n",
       " 'extend',\n",
       " 'index',\n",
       " 'insert',\n",
       " 'pop',\n",
       " 'remove',\n",
       " 'reverse',\n",
       " 'sort']"
      ]
     },
     "execution_count": 22,
     "metadata": {},
     "output_type": "execute_result"
    }
   ],
   "source": [
    "dir(shopping_list4)"
   ]
  },
  {
   "cell_type": "code",
   "execution_count": 23,
   "id": "40361f6c",
   "metadata": {},
   "outputs": [],
   "source": [
    "shopping_list4.append('Soap')"
   ]
  },
  {
   "cell_type": "code",
   "execution_count": 25,
   "id": "685132ba",
   "metadata": {},
   "outputs": [],
   "source": [
    "shopping_list4.append('Perfume')"
   ]
  },
  {
   "cell_type": "code",
   "execution_count": 26,
   "id": "96f16a11",
   "metadata": {},
   "outputs": [
    {
     "name": "stdout",
     "output_type": "stream",
     "text": [
      "['Soap', 'Perfume']\n"
     ]
    }
   ],
   "source": [
    "print(shopping_list4)"
   ]
  },
  {
   "cell_type": "code",
   "execution_count": 28,
   "id": "12360753",
   "metadata": {},
   "outputs": [],
   "source": [
    "shopping_list4.insert(0, 'Tissue Paper')"
   ]
  },
  {
   "cell_type": "code",
   "execution_count": 29,
   "id": "9b2efd10",
   "metadata": {},
   "outputs": [
    {
     "name": "stdout",
     "output_type": "stream",
     "text": [
      "['Tissue Paper', 'Soap', 'Perfume']\n"
     ]
    }
   ],
   "source": [
    "print(shopping_list4)"
   ]
  },
  {
   "cell_type": "code",
   "execution_count": 30,
   "id": "0655b240",
   "metadata": {},
   "outputs": [],
   "source": [
    "shopping_list4.extend(['Groceries', 'Cocacola', 'Milo', 'Bama', 'Floating Berries'])"
   ]
  },
  {
   "cell_type": "code",
   "execution_count": 31,
   "id": "fbf59323",
   "metadata": {},
   "outputs": [
    {
     "name": "stdout",
     "output_type": "stream",
     "text": [
      "['Tissue Paper', 'Soap', 'Perfume', 'Groceries', 'Cocacola', 'Milo', 'Bama', 'Floating Berries']\n"
     ]
    }
   ],
   "source": [
    "print(shopping_list4)"
   ]
  },
  {
   "cell_type": "code",
   "execution_count": null,
   "id": "d43e680d",
   "metadata": {},
   "outputs": [],
   "source": [
    "# removing items from a list: remove, pop"
   ]
  },
  {
   "cell_type": "code",
   "execution_count": 33,
   "id": "73cb46d2",
   "metadata": {},
   "outputs": [
    {
     "data": {
      "text/plain": [
       "'Floating Berries'"
      ]
     },
     "execution_count": 33,
     "metadata": {},
     "output_type": "execute_result"
    }
   ],
   "source": [
    "shopping_list4.pop()"
   ]
  },
  {
   "cell_type": "code",
   "execution_count": 34,
   "id": "6746e06b",
   "metadata": {},
   "outputs": [
    {
     "name": "stdout",
     "output_type": "stream",
     "text": [
      "['Tissue Paper', 'Soap', 'Perfume', 'Groceries', 'Cocacola', 'Milo', 'Bama']\n"
     ]
    }
   ],
   "source": [
    "print(shopping_list4)"
   ]
  },
  {
   "cell_type": "code",
   "execution_count": 36,
   "id": "023c200b",
   "metadata": {},
   "outputs": [],
   "source": [
    "shopping_list4.remove('Soap')"
   ]
  },
  {
   "cell_type": "code",
   "execution_count": 37,
   "id": "5530b2db",
   "metadata": {},
   "outputs": [
    {
     "name": "stdout",
     "output_type": "stream",
     "text": [
      "['Tissue Paper', 'Perfume', 'Groceries', 'Cocacola', 'Milo', 'Bama']\n"
     ]
    }
   ],
   "source": [
    "print(shopping_list4)"
   ]
  },
  {
   "cell_type": "code",
   "execution_count": 53,
   "id": "87638e41",
   "metadata": {},
   "outputs": [
    {
     "name": "stdout",
     "output_type": "stream",
     "text": [
      "Object `shopping_list.update` not found.\n"
     ]
    }
   ],
   "source": [
    "shopping_list.update??"
   ]
  },
  {
   "cell_type": "markdown",
   "id": "1a723366",
   "metadata": {},
   "source": [
    "### Delete"
   ]
  },
  {
   "cell_type": "code",
   "execution_count": 41,
   "id": "27d76b64",
   "metadata": {},
   "outputs": [],
   "source": [
    "shopping_list4.clear()"
   ]
  },
  {
   "cell_type": "code",
   "execution_count": 42,
   "id": "6385e6c1",
   "metadata": {},
   "outputs": [
    {
     "name": "stdout",
     "output_type": "stream",
     "text": [
      "[]\n"
     ]
    }
   ],
   "source": [
    "print(shopping_list4)"
   ]
  },
  {
   "cell_type": "markdown",
   "id": "2e6bbc8a",
   "metadata": {},
   "source": [
    "### List: Use Cases in Data Science <a id=\"lists-use-cases\"></a>"
   ]
  },
  {
   "cell_type": "markdown",
   "id": "74350f0e",
   "metadata": {},
   "source": [
    "### Use Case: Storing and Manipulating Datasets\n",
    "\n",
    "#### Background\n",
    "\n",
    "In data science, we often work with datasets that contain various types of information, such as numerical values, text data, or categorical variables. Python lists provide a convenient way to store and manipulate these datasets.\n",
    "\n",
    "#### Scenario\n",
    "\n",
    "Suppose we have collected data on the monthly sales revenue (in thousands of dollars) for a small retail store over the past year. The dataset includes sales data for each month. We want to use a Python list to store and analyze this dataset.\n",
    "\n",
    "#### Implementation\n",
    "\n",
    "Let's create a Python list called `monthly_sales` to store our dataset. Each element in the list represents the monthly sales revenue for one month, starting from January (index 0) to December (index 11).\n",
    "\n",
    "```python\n",
    "# Creating a list to store monthly sales data\n",
    "monthly_sales = [120, 135, 150, 145, 155, 160, 170, 180, 190, 200, 210, 220]\n"
   ]
  },
  {
   "cell_type": "code",
   "execution_count": 3,
   "id": "7159d058",
   "metadata": {},
   "outputs": [],
   "source": [
    "monthly_sales = [120, 135, 150, 145, 155, 160, 170, 180, 190, 200, 210, 220]"
   ]
  },
  {
   "cell_type": "code",
   "execution_count": 4,
   "id": "ee788a1a",
   "metadata": {},
   "outputs": [],
   "source": [
    "total_yearly_revenue = sum(monthly_sales)"
   ]
  },
  {
   "cell_type": "code",
   "execution_count": 56,
   "id": "a7cd1273",
   "metadata": {},
   "outputs": [
    {
     "name": "stdout",
     "output_type": "stream",
     "text": [
      "2035\n"
     ]
    }
   ],
   "source": [
    "print(total_yearly_revenue)"
   ]
  },
  {
   "cell_type": "code",
   "execution_count": 46,
   "id": "d01fe4e7",
   "metadata": {},
   "outputs": [],
   "source": [
    "# avg = total/no. of total\n",
    "\n",
    "average_revenue = total_yearly_revenue / len(monthly_sales)"
   ]
  },
  {
   "cell_type": "code",
   "execution_count": 48,
   "id": "a36b8137",
   "metadata": {},
   "outputs": [
    {
     "name": "stdout",
     "output_type": "stream",
     "text": [
      "169.6\n"
     ]
    }
   ],
   "source": [
    "print(round(average_revenue, 1))"
   ]
  },
  {
   "cell_type": "markdown",
   "id": "9b7315b2",
   "metadata": {},
   "source": [
    "### Assignment "
   ]
  },
  {
   "cell_type": "markdown",
   "id": "8b6f8812",
   "metadata": {},
   "source": [
    "1. From the list (monthly_sales) above, \n",
    "- create four seperate lists frm the list for each quarter namely: q1, q2, q3, q4. \n",
    "- report what quarter had the highest amount in total revenue, \n",
    "- report the lowest."
   ]
  },
  {
   "cell_type": "code",
   "execution_count": 4,
   "id": "51bb2e19",
   "metadata": {},
   "outputs": [
    {
     "name": "stdout",
     "output_type": "stream",
     "text": [
      "[120, 135, 150]\n",
      "[145, 155, 160]\n",
      "[170, 180, 190]\n",
      "[200, 210, 220]\n"
     ]
    }
   ],
   "source": [
    "q1 = monthly_sales[0:3]\n",
    "print(q1)\n",
    "q2 = monthly_sales[3:6]\n",
    "print(q2)\n",
    "q3 = monthly_sales[6:9]\n",
    "print(q3)\n",
    "q4 = monthly_sales[9:12]\n",
    "print(q4)"
   ]
  },
  {
   "cell_type": "code",
   "execution_count": 5,
   "id": "75251200",
   "metadata": {},
   "outputs": [
    {
     "data": {
      "text/plain": [
       "405"
      ]
     },
     "execution_count": 5,
     "metadata": {},
     "output_type": "execute_result"
    }
   ],
   "source": [
    "\n",
    "total_revenue1 = sum(q1)\n",
    "total_revenue1"
   ]
  },
  {
   "cell_type": "code",
   "execution_count": 6,
   "id": "dad04bd2",
   "metadata": {},
   "outputs": [
    {
     "data": {
      "text/plain": [
       "460"
      ]
     },
     "execution_count": 6,
     "metadata": {},
     "output_type": "execute_result"
    }
   ],
   "source": [
    "total_revenue2 = sum(q2)\n",
    "total_revenue2"
   ]
  },
  {
   "cell_type": "code",
   "execution_count": 7,
   "id": "34ec8e63",
   "metadata": {},
   "outputs": [
    {
     "data": {
      "text/plain": [
       "540"
      ]
     },
     "execution_count": 7,
     "metadata": {},
     "output_type": "execute_result"
    }
   ],
   "source": [
    "total_revenue3 = sum(q3)\n",
    "total_revenue3"
   ]
  },
  {
   "cell_type": "code",
   "execution_count": 8,
   "id": "9c2825f7",
   "metadata": {},
   "outputs": [
    {
     "data": {
      "text/plain": [
       "630"
      ]
     },
     "execution_count": 8,
     "metadata": {},
     "output_type": "execute_result"
    }
   ],
   "source": [
    "total_revenue4 = sum(q4)\n",
    "total_revenue4"
   ]
  },
  {
   "cell_type": "markdown",
   "id": "fbaeecc8",
   "metadata": {},
   "source": [
    "From the above the highest total revenue is total_revenue4 for q4 and the least is total_revenue1 for q1"
   ]
  },
  {
   "cell_type": "markdown",
   "id": "6c0c31ee",
   "metadata": {},
   "source": [
    "2. Store the names of a few of your friends in a list called names. \n",
    "- Print each person’s name by accessing each element in the list, one at a time.\n",
    "- Start with the list you created, but instead of just printing each person’s name, print a message to them. The text of each message should be the same, but each message should be personalized with the person’s name. hint(use may use f-strings)"
   ]
  },
  {
   "cell_type": "code",
   "execution_count": 30,
   "id": "5f87247d",
   "metadata": {},
   "outputs": [
    {
     "name": "stdout",
     "output_type": "stream",
     "text": [
      "Meet my friend Doyin.\n",
      "Meet my friend Ndiana.\n",
      "Meet my friend Fikayo.\n"
     ]
    }
   ],
   "source": [
    "names = [\"Doyin\", \"Ndiana\", \"Fikayo\"]\n",
    "\n",
    "for i in names:\n",
    "    print(f\"Meet my friend {i}.\")"
   ]
  },
  {
   "cell_type": "markdown",
   "id": "ae61bb7e",
   "metadata": {},
   "source": [
    "3. You are managing a list of students' names in your class. \n",
    "* Create a list called student_names containing the following student names as strings: 'Alice', 'Bob', 'Charlie', 'David', 'Eve'.\n",
    "- Use the student_names list from the list above for the following operations:\n",
    "  - a. Print the number of students in the class (the length of the list).\n",
    "  - b. Print the first and last student names in the list.\n",
    "  - c. Charlie has left the class. Remove his name from the list.\n",
    "  - d. A new student, \"Frank,\" has joined the class. Add his name to the list.\n",
    "  - e. The class has been dissolved, and you need to remove all student names from the list."
   ]
  },
  {
   "cell_type": "code",
   "execution_count": 3,
   "id": "120d240f",
   "metadata": {},
   "outputs": [
    {
     "data": {
      "text/plain": [
       "5"
      ]
     },
     "execution_count": 3,
     "metadata": {},
     "output_type": "execute_result"
    }
   ],
   "source": [
    "student_names = ['Alice', 'Bob', 'Charlie', 'David', 'Eve']\n",
    "#a\n",
    "len(student_names)"
   ]
  },
  {
   "cell_type": "code",
   "execution_count": 4,
   "id": "0267f529",
   "metadata": {},
   "outputs": [
    {
     "name": "stdout",
     "output_type": "stream",
     "text": [
      "Alice\n",
      "Eve\n"
     ]
    }
   ],
   "source": [
    "#b\n",
    "print(student_names[0])\n",
    "print(student_names[-1])"
   ]
  },
  {
   "cell_type": "code",
   "execution_count": 5,
   "id": "afb426b4",
   "metadata": {},
   "outputs": [
    {
     "data": {
      "text/plain": [
       "['Alice', 'Bob', 'David', 'Eve']"
      ]
     },
     "execution_count": 5,
     "metadata": {},
     "output_type": "execute_result"
    }
   ],
   "source": [
    "#c\n",
    "student_names.remove('Charlie')\n",
    "student_names"
   ]
  },
  {
   "cell_type": "code",
   "execution_count": 6,
   "id": "b96a097c",
   "metadata": {},
   "outputs": [
    {
     "data": {
      "text/plain": [
       "['Alice', 'Bob', 'David', 'Eve', 'Frank']"
      ]
     },
     "execution_count": 6,
     "metadata": {},
     "output_type": "execute_result"
    }
   ],
   "source": [
    "#d\n",
    "student_names.append('Frank')\n",
    "student_names"
   ]
  },
  {
   "cell_type": "code",
   "execution_count": 7,
   "id": "4b951c55",
   "metadata": {},
   "outputs": [
    {
     "data": {
      "text/plain": [
       "[]"
      ]
     },
     "execution_count": 7,
     "metadata": {},
     "output_type": "execute_result"
    }
   ],
   "source": [
    "#e\n",
    "student_names.clear()\n",
    "student_names"
   ]
  }
 ],
 "metadata": {
  "kernelspec": {
   "display_name": "Python 3 (ipykernel)",
   "language": "python",
   "name": "python3"
  },
  "language_info": {
   "codemirror_mode": {
    "name": "ipython",
    "version": 3
   },
   "file_extension": ".py",
   "mimetype": "text/x-python",
   "name": "python",
   "nbconvert_exporter": "python",
   "pygments_lexer": "ipython3",
   "version": "3.10.9"
  }
 },
 "nbformat": 4,
 "nbformat_minor": 5
}
